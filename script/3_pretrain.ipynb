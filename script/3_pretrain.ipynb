{
 "cells": [
  {
   "cell_type": "markdown",
   "id": "1520a984",
   "metadata": {},
   "source": [
    "# 3-Pretrain\n",
    "预训练时模型经历的第一个阶段，在该阶段，模型将会吸收知识，学习尽可能正确的下一词语预测范式。该Notebook仅对预训练流程进行展示和学习，wandb和ddp不会涉及。"
   ]
  },
  {
   "cell_type": "code",
   "execution_count": 1,
   "id": "a658777a",
   "metadata": {},
   "outputs": [],
   "source": [
    "import os\n",
    "import argparse\n",
    "import time\n",
    "import math\n",
    "import warnings\n",
    "import tqdm\n",
    "import torch\n",
    "import torch.nn as nn\n",
    "from torch.optim.lr_scheduler import CosineAnnealingLR\n",
    "from torch.utils.data import DataLoader\n",
    "from contextlib import nullcontext\n",
    "from transformers import AutoTokenizer\n",
    "\n",
    "from dataset import PretrainDataset\n",
    "from model import MiniMindForCausalLM, MiniMindConfig\n",
    "\n",
    "warnings.filterwarnings('ignore')"
   ]
  },
  {
   "cell_type": "code",
   "execution_count": 5,
   "id": "0b09ceaa",
   "metadata": {},
   "outputs": [],
   "source": [
    "def Logger(content):\n",
    "    print(content)\n",
    "    \n",
    "def get_lr(current_step, total_steps, lr):\n",
    "    return lr / 10 + 0.5 * lr * (1 + math.cos(math.pi * current_step / total_steps))\n",
    "\n",
    "def train_epoch(epoch):\n",
    "    loss_fct = nn.CrossEntropyLoss(reduction='none')\n",
    "    start_time = time.time()\n",
    "    pbar = tqdm(enumerate(train_loader), total=len(train_loader), desc=f\"Epoch {epoch+1}\")\n",
    "    \n",
    "    for step, (X, Y, loss_mask) in pbar:\n",
    "        X = X.to()\n",
    "        \n",
    "def init_model(lm_config):\n",
    "    tokenizer = AutoTokenizer.from_pretrained('../model/minimind_tokenizer')\n",
    "    model = MiniMindForCausalLM(lm_config).to(args.device)\n",
    "    print(f\"LLM 总参数量：{sum(p.numel() for p in model.parameters() if p.requires_grad) / 1e6:.3f} 百万\")\n",
    "    return model, tokenizer"
   ]
  },
  {
   "cell_type": "code",
   "execution_count": null,
   "id": "4a87c1b6",
   "metadata": {},
   "outputs": [
    {
     "name": "stderr",
     "output_type": "stream",
     "text": [
      "usage: ipykernel_launcher.py [-h] [--out_dir OUT_DIR] [--epochs EPOCHS]\n",
      "                             [--batch_size BATCH_SIZE]\n",
      "                             [--learing_rate LEARING_RATE] [--device DEVICE]\n",
      "                             [--dtype DTYPE]\n",
      "                             [--accumulation_steps ACCUMULATION_STEPS]\n",
      "                             [--grad_clip GRAD_CLIP]\n",
      "                             [--warmup_iters WARMUP_ITERS]\n",
      "                             [--log_interval LOG_INTERVAL]\n",
      "                             [--save_interval SAVE_INTERVAL]\n",
      "                             [--hidden_size HIDDEN_SIZE]\n",
      "                             [--num_hidden_layers NUM_HIDDEN_LAYERS]\n",
      "                             [--max_seq_len MAX_SEQ_LEN]\n",
      "                             [--data_path DATA_PATH]\n",
      "ipykernel_launcher.py: error: unrecognized arguments: --f=/Users/mei/Library/Jupyter/runtime/kernel-v38391394359e5903425b80f6b0cb02f4901a7675e.json\n"
     ]
    },
    {
     "ename": "SystemExit",
     "evalue": "2",
     "output_type": "error",
     "traceback": [
      "An exception has occurred, use %tb to see the full traceback.\n",
      "\u001b[0;31mSystemExit\u001b[0m\u001b[0;31m:\u001b[0m 2\n"
     ]
    }
   ],
   "source": [
    "if __name__ == '__main__':\n",
    "    parser = argparse.ArgumentParser(description=\"MiniMind Pretraining\")\n",
    "    parser.add_argument(\"--out_dir\", type=str, default=\"../out\")\n",
    "    parser.add_argument(\"--epochs\", type=int, default=1)\n",
    "    parser.add_argument(\"--batch_size\", type=int, default=32)\n",
    "    parser.add_argument(\"--learing_rate\", type=float, default=5e-4)\n",
    "    parser.add_argument(\"--device\", type=str, default=\"cuda:0\" if torch.cuda.is_available() else 'cpu')\n",
    "    parser.add_argument(\"--dtype\", type=str, default=\"bfloat16\")\n",
    "    parser.add_argument(\"--accumulation_steps\", type=int, default=8)\n",
    "    parser.add_argument(\"--grad_clip\", type=float, default=1.0)\n",
    "    parser.add_argument(\"--warmup_iters\", type=int, default=0)\n",
    "    parser.add_argument(\"--log_interval\", type=int, default=1)\n",
    "    parser.add_argument(\"--save_interval\", type=int, default=10)\n",
    "    parser.add_argument(\"--hidden_size\", type=int, default=512)\n",
    "    parser.add_argument(\"--num_hidden_layers\", type=int, default=8)\n",
    "    parser.add_argument(\"--max_seq_len\", type=int, default=512)\n",
    "    parser.add_argument(\"--data_path\", type=str, default=\"../dataset/pretrain_hq.jsonl\")\n",
    "    args = parser.parse_args()\n",
    "    \n",
    "    lm_config = MiniMindConfig(hidden_size=args.hidden_size, num_hidden_layers=args.num_hidden_layers)\n",
    "    model, tokenizer = init_model()\n",
    "    \n",
    "    train_dataset = PretrainDataset(args.data_path, tokenizer, max_length=args.max_seq_len)\n",
    "    \n",
    "    train_loader = DataLoader(\n",
    "        train_dataset,\n",
    "        batch_size=args.batch_size,\n",
    "        pin_memory=True,\n",
    "        drop_last=False,\n",
    "        shuffle=False,\n",
    "    )\n",
    "    print(f\"模型位于设备：{model.device}, 词表长度：{tokenizer.vocab_size}, DataLoader：{train_loader}\")"
   ]
  },
  {
   "cell_type": "code",
   "execution_count": null,
   "id": "eeccebf6",
   "metadata": {},
   "outputs": [],
   "source": []
  }
 ],
 "metadata": {
  "kernelspec": {
   "display_name": "NLP",
   "language": "python",
   "name": "python3"
  },
  "language_info": {
   "codemirror_mode": {
    "name": "ipython",
    "version": 3
   },
   "file_extension": ".py",
   "mimetype": "text/x-python",
   "name": "python",
   "nbconvert_exporter": "python",
   "pygments_lexer": "ipython3",
   "version": "3.10.16"
  }
 },
 "nbformat": 4,
 "nbformat_minor": 5
}
